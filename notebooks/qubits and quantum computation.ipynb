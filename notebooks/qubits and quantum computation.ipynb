{
 "cells": [
  {
   "cell_type": "code",
   "execution_count": 1,
   "id": "7d8f991b",
   "metadata": {},
   "outputs": [],
   "source": [
    "import netsquid as ns"
   ]
  },
  {
   "cell_type": "code",
   "execution_count": 2,
   "id": "460d195b",
   "metadata": {},
   "outputs": [],
   "source": [
    "qubits = ns.qubits.create_qubits(1)"
   ]
  },
  {
   "cell_type": "code",
   "execution_count": 3,
   "id": "97129d65",
   "metadata": {},
   "outputs": [
    {
     "data": {
      "text/plain": [
       "[Qubit('QS#0-0')]"
      ]
     },
     "execution_count": 3,
     "metadata": {},
     "output_type": "execute_result"
    }
   ],
   "source": [
    "qubits"
   ]
  },
  {
   "cell_type": "code",
   "execution_count": 4,
   "id": "c0b5d06d",
   "metadata": {},
   "outputs": [],
   "source": [
    "qubit = qubits[0]"
   ]
  },
  {
   "cell_type": "code",
   "execution_count": 6,
   "id": "6f7e55c0",
   "metadata": {},
   "outputs": [
    {
     "data": {
      "text/plain": [
       "array([[1.+0.j, 0.+0.j],\n",
       "       [0.+0.j, 0.+0.j]])"
      ]
     },
     "execution_count": 6,
     "metadata": {},
     "output_type": "execute_result"
    }
   ],
   "source": [
    "ns.qubits.reduced_dm(qubit)"
   ]
  },
  {
   "cell_type": "code",
   "execution_count": 7,
   "id": "c710cba3",
   "metadata": {},
   "outputs": [],
   "source": [
    "ns.qubits.operate(qubit, ns.X)"
   ]
  },
  {
   "cell_type": "code",
   "execution_count": 8,
   "id": "d26b10a4",
   "metadata": {},
   "outputs": [
    {
     "data": {
      "text/plain": [
       "array([[0.+0.j, 0.+0.j],\n",
       "       [0.+0.j, 1.+0.j]])"
      ]
     },
     "execution_count": 8,
     "metadata": {},
     "output_type": "execute_result"
    }
   ],
   "source": [
    "ns.qubits.reduced_dm(qubit)"
   ]
  },
  {
   "cell_type": "markdown",
   "id": "47194b37",
   "metadata": {},
   "source": [
    "### Qubits and quantum computation"
   ]
  },
  {
   "cell_type": "code",
   "execution_count": 22,
   "id": "3b007c11",
   "metadata": {},
   "outputs": [],
   "source": [
    "q1, q2 = ns.qubits.create_qubits(2)"
   ]
  },
  {
   "cell_type": "code",
   "execution_count": 23,
   "id": "368298d6",
   "metadata": {},
   "outputs": [
    {
     "data": {
      "text/plain": [
       "1"
      ]
     },
     "execution_count": 23,
     "metadata": {},
     "output_type": "execute_result"
    }
   ],
   "source": [
    "q1.qstate.num_qubits"
   ]
  },
  {
   "cell_type": "code",
   "execution_count": 24,
   "id": "18f5410a",
   "metadata": {},
   "outputs": [
    {
     "data": {
      "text/plain": [
       "KetRepr(num_qubits=1, ket=\n",
       "array([[1.+0.j],\n",
       "       [0.+0.j]]))"
      ]
     },
     "execution_count": 24,
     "metadata": {},
     "output_type": "execute_result"
    }
   ],
   "source": [
    "q1.qstate.qrepr"
   ]
  },
  {
   "cell_type": "code",
   "execution_count": 25,
   "id": "c367066a",
   "metadata": {},
   "outputs": [
    {
     "data": {
      "text/plain": [
       "KetRepr(num_qubits=1, ket=\n",
       "array([[1.+0.j],\n",
       "       [0.+0.j]]))"
      ]
     },
     "execution_count": 25,
     "metadata": {},
     "output_type": "execute_result"
    }
   ],
   "source": [
    "q2.qstate.qrepr"
   ]
  },
  {
   "cell_type": "code",
   "execution_count": 26,
   "id": "32ce0c09",
   "metadata": {},
   "outputs": [
    {
     "data": {
      "text/plain": [
       "False"
      ]
     },
     "execution_count": 26,
     "metadata": {},
     "output_type": "execute_result"
    }
   ],
   "source": [
    "q1.qstate == q2.qstate"
   ]
  },
  {
   "cell_type": "markdown",
   "id": "60b1eb51",
   "metadata": {},
   "source": [
    "### combining qubits"
   ]
  },
  {
   "cell_type": "code",
   "execution_count": 27,
   "id": "5ec680dc",
   "metadata": {},
   "outputs": [
    {
     "data": {
      "text/plain": [
       "[Qubit('QS#2-0'), Qubit('QS#2-1')]"
      ]
     },
     "execution_count": 27,
     "metadata": {},
     "output_type": "execute_result"
    }
   ],
   "source": [
    "ns.qubits.combine_qubits([q1, q2])"
   ]
  },
  {
   "cell_type": "code",
   "execution_count": 28,
   "id": "bd7e442e",
   "metadata": {},
   "outputs": [
    {
     "data": {
      "text/plain": [
       "2"
      ]
     },
     "execution_count": 28,
     "metadata": {},
     "output_type": "execute_result"
    }
   ],
   "source": [
    "q1.qstate.num_qubits"
   ]
  },
  {
   "cell_type": "code",
   "execution_count": 29,
   "id": "2c43253c",
   "metadata": {},
   "outputs": [
    {
     "data": {
      "text/plain": [
       "KetRepr(num_qubits=2, ket=\n",
       "array([[1.+0.j],\n",
       "       [0.+0.j],\n",
       "       [0.+0.j],\n",
       "       [0.+0.j]]))"
      ]
     },
     "execution_count": 29,
     "metadata": {},
     "output_type": "execute_result"
    }
   ],
   "source": [
    "q1.qstate.qrepr"
   ]
  },
  {
   "cell_type": "code",
   "execution_count": 30,
   "id": "c4f792ce",
   "metadata": {},
   "outputs": [
    {
     "data": {
      "text/plain": [
       "array([[1.+0.j, 0.+0.j, 0.+0.j, 0.+0.j],\n",
       "       [0.+0.j, 0.+0.j, 0.+0.j, 0.+0.j],\n",
       "       [0.+0.j, 0.+0.j, 0.+0.j, 0.+0.j],\n",
       "       [0.+0.j, 0.+0.j, 0.+0.j, 0.+0.j]])"
      ]
     },
     "execution_count": 30,
     "metadata": {},
     "output_type": "execute_result"
    }
   ],
   "source": [
    "ns.qubits.reduced_dm([q1, q2])"
   ]
  },
  {
   "cell_type": "code",
   "execution_count": 31,
   "id": "f8febb4e",
   "metadata": {},
   "outputs": [
    {
     "data": {
      "text/plain": [
       "array([[1.+0.j, 0.+0.j],\n",
       "       [0.+0.j, 0.+0.j]])"
      ]
     },
     "execution_count": 31,
     "metadata": {},
     "output_type": "execute_result"
    }
   ],
   "source": [
    "ns.qubits.reduced_dm(q2)"
   ]
  },
  {
   "cell_type": "markdown",
   "id": "ebfb8c36",
   "metadata": {},
   "source": [
    "### Measuring qubits"
   ]
  },
  {
   "cell_type": "code",
   "execution_count": 33,
   "id": "c187bac7",
   "metadata": {},
   "outputs": [
    {
     "data": {
      "text/plain": [
       "True"
      ]
     },
     "execution_count": 33,
     "metadata": {},
     "output_type": "execute_result"
    }
   ],
   "source": [
    "q1.qstate.num_qubits == q2.qstate.num_qubits"
   ]
  },
  {
   "cell_type": "code",
   "execution_count": 34,
   "id": "6c1c57d2",
   "metadata": {},
   "outputs": [
    {
     "data": {
      "text/plain": [
       "2"
      ]
     },
     "execution_count": 34,
     "metadata": {},
     "output_type": "execute_result"
    }
   ],
   "source": [
    "q1.qstate.num_qubits"
   ]
  },
  {
   "cell_type": "code",
   "execution_count": 35,
   "id": "8f84c3b3",
   "metadata": {},
   "outputs": [
    {
     "data": {
      "text/plain": [
       "(0, 1.0)"
      ]
     },
     "execution_count": 35,
     "metadata": {},
     "output_type": "execute_result"
    }
   ],
   "source": [
    "ns.qubits.measure(q1)"
   ]
  },
  {
   "cell_type": "code",
   "execution_count": 36,
   "id": "8990d14b",
   "metadata": {},
   "outputs": [
    {
     "data": {
      "text/plain": [
       "True"
      ]
     },
     "execution_count": 36,
     "metadata": {},
     "output_type": "execute_result"
    }
   ],
   "source": [
    "q1.qstate.num_qubits == q2.qstate.num_qubits"
   ]
  },
  {
   "cell_type": "code",
   "execution_count": 37,
   "id": "61385050",
   "metadata": {},
   "outputs": [
    {
     "data": {
      "text/plain": [
       "1"
      ]
     },
     "execution_count": 37,
     "metadata": {},
     "output_type": "execute_result"
    }
   ],
   "source": [
    "q1.qstate.num_qubits"
   ]
  },
  {
   "cell_type": "markdown",
   "id": "606d2a5b",
   "metadata": {},
   "source": [
    "### Quantum state formalism"
   ]
  },
  {
   "cell_type": "code",
   "execution_count": 38,
   "id": "139f853e",
   "metadata": {},
   "outputs": [],
   "source": [
    "from netsquid.qubits.qformalism import QFormalism"
   ]
  },
  {
   "cell_type": "code",
   "execution_count": 39,
   "id": "777f27f0",
   "metadata": {},
   "outputs": [
    {
     "data": {
      "text/plain": [
       "netsquid.qubits.kettools.KetRepr"
      ]
     },
     "execution_count": 39,
     "metadata": {},
     "output_type": "execute_result"
    }
   ],
   "source": [
    "ns.get_qstate_formalism()"
   ]
  },
  {
   "cell_type": "code",
   "execution_count": 41,
   "id": "9eb04ae7",
   "metadata": {},
   "outputs": [],
   "source": [
    "ns.set_qstate_formalism(QFormalism.STAB)"
   ]
  },
  {
   "cell_type": "code",
   "execution_count": 42,
   "id": "7b2df62c",
   "metadata": {},
   "outputs": [
    {
     "data": {
      "text/plain": [
       "netsquid.qubits.stabtools.StabRepr"
      ]
     },
     "execution_count": 42,
     "metadata": {},
     "output_type": "execute_result"
    }
   ],
   "source": [
    "ns.get_qstate_formalism()"
   ]
  },
  {
   "cell_type": "markdown",
   "id": "7dafe3b4",
   "metadata": {},
   "source": [
    "### Quantum operations"
   ]
  },
  {
   "cell_type": "code",
   "execution_count": 2,
   "id": "915098a3",
   "metadata": {},
   "outputs": [
    {
     "ename": "NameError",
     "evalue": "name 'QFormalism' is not defined",
     "output_type": "error",
     "traceback": [
      "\u001b[0;31m---------------------------------------------------------------------------\u001b[0m",
      "\u001b[0;31mNameError\u001b[0m                                 Traceback (most recent call last)",
      "\u001b[0;32m/tmp/ipykernel_6463/2873811919.py\u001b[0m in \u001b[0;36m<module>\u001b[0;34m\u001b[0m\n\u001b[0;32m----> 1\u001b[0;31m \u001b[0mns\u001b[0m\u001b[0;34m.\u001b[0m\u001b[0mset_qstate_formalism\u001b[0m\u001b[0;34m(\u001b[0m\u001b[0mQFormalism\u001b[0m\u001b[0;34m.\u001b[0m\u001b[0mDM\u001b[0m\u001b[0;34m)\u001b[0m\u001b[0;34m\u001b[0m\u001b[0;34m\u001b[0m\u001b[0m\n\u001b[0m",
      "\u001b[0;31mNameError\u001b[0m: name 'QFormalism' is not defined"
     ]
    }
   ],
   "source": [
    "ns.set_qstate_formalism(QFormalism.DM)"
   ]
  },
  {
   "cell_type": "code",
   "execution_count": 11,
   "id": "ff720cb3",
   "metadata": {},
   "outputs": [],
   "source": [
    "a1, a2, b1 = ns.qubits.create_qubits(3)"
   ]
  },
  {
   "cell_type": "code",
   "execution_count": 46,
   "id": "3d1ef6f1",
   "metadata": {},
   "outputs": [
    {
     "data": {
      "text/plain": [
       "array([[1.+0.j, 0.+0.j],\n",
       "       [0.+0.j, 0.+0.j]])"
      ]
     },
     "execution_count": 46,
     "metadata": {},
     "output_type": "execute_result"
    }
   ],
   "source": [
    "ns.qubits.operate(a1, ns.H)\n",
    "ns.qubits.operate(a1, ns.S)\n",
    "ns.qubits.reduced_dm([a1])"
   ]
  },
  {
   "cell_type": "code",
   "execution_count": 47,
   "id": "9a3d154a",
   "metadata": {},
   "outputs": [],
   "source": [
    "ns.qubits.operate(a2, ns.H)"
   ]
  },
  {
   "cell_type": "code",
   "execution_count": 48,
   "id": "66039aa1",
   "metadata": {},
   "outputs": [],
   "source": [
    "ns.qubits.operate([a2, b1], ns.CNOT)"
   ]
  },
  {
   "cell_type": "code",
   "execution_count": 49,
   "id": "f343ee38",
   "metadata": {},
   "outputs": [
    {
     "data": {
      "text/plain": [
       "array([[0.5+0.j, 0. +0.j, 0. +0.j, 0.5+0.j],\n",
       "       [0. +0.j, 0. +0.j, 0. +0.j, 0. +0.j],\n",
       "       [0. +0.j, 0. +0.j, 0. +0.j, 0. +0.j],\n",
       "       [0.5+0.j, 0. +0.j, 0. +0.j, 0.5+0.j]])"
      ]
     },
     "execution_count": 49,
     "metadata": {},
     "output_type": "execute_result"
    }
   ],
   "source": [
    "ns.qubits.reduced_dm([a2, b1])"
   ]
  },
  {
   "cell_type": "code",
   "execution_count": 4,
   "id": "060ea4b7",
   "metadata": {},
   "outputs": [],
   "source": [
    "ns.set_random_state(seed=42)"
   ]
  },
  {
   "cell_type": "code",
   "execution_count": 12,
   "id": "854883aa",
   "metadata": {},
   "outputs": [
    {
     "name": "stdout",
     "output_type": "stream",
     "text": [
      "Measured |0> with prob 1.0\n"
     ]
    }
   ],
   "source": [
    "ns.qubits.operate([a1, a2], ns.CNOT)\n",
    "\n",
    "ns.qubits.operate(a1, ns.H)\n",
    "m1, prob = ns.qubits.measure(a1)\n",
    "labels_z = (\"|0>\", \"|1>\")\n",
    "m2, prob = ns.qubits.measure(a2)\n",
    "print(\"Measured {} with prob {}\".format(labels_z[m2], prob))"
   ]
  },
  {
   "cell_type": "code",
   "execution_count": 25,
   "id": "2b63a5f8",
   "metadata": {},
   "outputs": [
    {
     "name": "stdout",
     "output_type": "stream",
     "text": [
      "Measured |00> with prob 0.25\n",
      "2\n"
     ]
    }
   ],
   "source": [
    "bell_operators = []\n",
    "p0, p1 = ns.Z.projectors\n",
    "bell_operators.append(ns.CNOT * (ns.H ^ ns.I) * (p0 ^ p0) * (ns.H ^ ns.I) * ns.CNOT)\n",
    "bell_operators.append(ns.CNOT * (ns.H ^ ns.I) * (p0 ^ p1) * (ns.H ^ ns.I) * ns.CNOT)\n",
    "bell_operators.append(ns.CNOT * (ns.H ^ ns.I) * (p1 ^ p0) * (ns.H ^ ns.I) * ns.CNOT)\n",
    "bell_operators.append(ns.CNOT * (ns.H ^ ns.I) * (p1 ^ p1) * (ns.H ^ ns.I) * ns.CNOT)\n",
    "q1, q2 = ns.qubits.create_qubits(2)\n",
    "ns.qubits.operate(q1, ns.H)\n",
    "meas, prob = ns.qubits.gmeasure([q1, q2], meas_operators=bell_operators)\n",
    "labels_bell = (\"|00>\", \"|01>\", \"|10>\", \"|11>\")\n",
    "print(f\"Measured {labels_bell[meas]} with prob {prob:.2f}\")\n",
    "print(q1.qstate.num_qubits)"
   ]
  },
  {
   "cell_type": "code",
   "execution_count": 26,
   "id": "0e2e2077",
   "metadata": {},
   "outputs": [
    {
     "data": {
      "text/plain": [
       "array([[1.+0.j, 0.+0.j],\n",
       "       [0.+0.j, 0.+0.j]])"
      ]
     },
     "execution_count": 26,
     "metadata": {},
     "output_type": "execute_result"
    }
   ],
   "source": [
    "if m2==1:\n",
    "    ns.qubits.operate(b1, ns.X)\n",
    "if m1==1:\n",
    "    ns.qubits.operate(b1, ns.Z)\n",
    "ns.qubits.reduced_dm([b1])"
   ]
  },
  {
   "cell_type": "code",
   "execution_count": 27,
   "id": "b765b091",
   "metadata": {},
   "outputs": [],
   "source": [
    "fidelity = ns.qubits.fidelity(b1, ns.y0, squared=True)"
   ]
  },
  {
   "cell_type": "code",
   "execution_count": 28,
   "id": "6c533bd2",
   "metadata": {},
   "outputs": [
    {
     "data": {
      "text/plain": [
       "0.4999999999999999"
      ]
     },
     "execution_count": 28,
     "metadata": {},
     "output_type": "execute_result"
    }
   ],
   "source": [
    "fidelity"
   ]
  },
  {
   "cell_type": "code",
   "execution_count": 29,
   "id": "ca3db3f1",
   "metadata": {},
   "outputs": [
    {
     "name": "stdout",
     "output_type": "stream",
     "text": [
      "Fidelity is 0.500\n"
     ]
    }
   ],
   "source": [
    "ns.qubits.delay_depolarize(b1, depolar_rate=1e7, delay=20)\n",
    "fidelity = ns.qubits.fidelity([b1], reference_state=ns.y0, squared=True)\n",
    "print(f\"Fidelity is {fidelity:.3f}\")"
   ]
  },
  {
   "cell_type": "code",
   "execution_count": 31,
   "id": "5a13d5bd",
   "metadata": {},
   "outputs": [
    {
     "name": "stdout",
     "output_type": "stream",
     "text": [
      "[[0.+0.j 0.+0.j]\n",
      " [0.+0.j 1.+0.j]]\n",
      "[[0.+0.j 0.+0.j]\n",
      " [0.+0.j 1.+0.j]]\n",
      "[[1.+0.j 0.+0.j]\n",
      " [0.+0.j 0.+0.j]]\n",
      "[[0.+0.j 0.+0.j]\n",
      " [0.+0.j 1.+0.j]]\n"
     ]
    }
   ],
   "source": [
    "q1, q2, q3, q4 = ns.qubits.create_qubits(4)\n",
    "ns.qubits.stochastic_operate(q1, [ns.X, ns.Y, ns.Z], p_weights=(1/2, 1/4, 1/4))\n",
    "print(ns.qubits.reduced_dm([q1]))\n",
    "ns.qubits.apply_pauli_noise(q2, p_weights=(1/4, 1/4, 1/4, 1/4))  # (I, X, Y, Z)\n",
    "print(ns.qubits.reduced_dm([q2]))\n",
    "ns.qubits.depolarize(q3, prob=0.8)\n",
    "print(ns.qubits.reduced_dm([q3]))\n",
    "ns.qubits.operate(q4, ns.X)  # -> |1>\n",
    "ns.qubits.amplitude_dampen(q4, gamma=0.1, prob=1)\n",
    "print(ns.qubits.reduced_dm([q4]))"
   ]
  },
  {
   "cell_type": "code",
   "execution_count": null,
   "id": "f909f7cf",
   "metadata": {},
   "outputs": [],
   "source": []
  }
 ],
 "metadata": {
  "kernelspec": {
   "display_name": "Python 3 (ipykernel)",
   "language": "python",
   "name": "python3"
  },
  "language_info": {
   "codemirror_mode": {
    "name": "ipython",
    "version": 3
   },
   "file_extension": ".py",
   "mimetype": "text/x-python",
   "name": "python",
   "nbconvert_exporter": "python",
   "pygments_lexer": "ipython3",
   "version": "3.9.5"
  }
 },
 "nbformat": 4,
 "nbformat_minor": 5
}
