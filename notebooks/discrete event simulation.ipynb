{
 "cells": [
  {
   "cell_type": "code",
   "execution_count": 1,
   "id": "3b8fd27c",
   "metadata": {},
   "outputs": [],
   "source": [
    "import netsquid as ns\n",
    "import pydynaa\n",
    "ns.set_random_state(seed=42)"
   ]
  },
  {
   "cell_type": "code",
   "execution_count": 2,
   "id": "f6a7f02e",
   "metadata": {},
   "outputs": [],
   "source": [
    "class PingEntity(pydynaa.Entity):\n",
    "    ping_evtype = pydynaa.EventType(\"PING_EVENT\", \"A ping event.\")\n",
    "    delay = 10.\n",
    "\n",
    "    def start(self, qubit):\n",
    "        # Start the game by scheduling the first ping event after delay\n",
    "        self.qubit = qubit\n",
    "        self._schedule_after(self.delay, PingEntity.ping_evtype)\n",
    "\n",
    "    def wait_for_pong(self, pong_entity):\n",
    "        # Setup this entity to listen for pong events from a PongEntity\n",
    "        pong_handler = pydynaa.EventHandler(self._handle_pong_event)\n",
    "        self._wait(pong_handler, entity=pong_entity,\n",
    "                   event_type=PongEntity.pong_evtype)\n",
    "\n",
    "    def _handle_pong_event(self, event):\n",
    "        # Callback function called by the pong handler when pong event is triggered\n",
    "        m, prob = ns.qubits.measure(self.qubit, observable=ns.Z)\n",
    "        labels_z = (\"|0>\", \"|1>\")\n",
    "        print(f\"{ns.sim_time():.1f}: Pong event! PingEntity measured \"\n",
    "              f\"{labels_z[m]} with probability {prob:.2f}\")\n",
    "        self._schedule_after(PingEntity.delay, PingEntity.ping_evtype)\n",
    "\n",
    "class PongEntity(pydynaa.Entity):\n",
    "    pong_evtype = pydynaa.EventType(\"PONG_EVENT\", \"A pong event.\")\n",
    "    delay = 10.\n",
    "\n",
    "    def wait_for_ping(self, ping_entity):\n",
    "        # Setup this entity to listen for ping events from a PingEntity\n",
    "        ping_handler = pydynaa.EventHandler(self._handle_ping_event)\n",
    "        self._wait(ping_handler, entity=ping_entity,\n",
    "                   event_type=PingEntity.ping_evtype)\n",
    "\n",
    "    def _handle_ping_event(self, event):\n",
    "        # Callback function called by the ping handler when ping event is triggered\n",
    "        m, prob = ns.qubits.measure(event.source.qubit, observable=ns.X)\n",
    "        labels_x = (\"|+>\", \"|->\")\n",
    "        print(f\"{ns.sim_time():.1f}: Ping event! PongEntity measured \"\n",
    "              f\"{labels_x[m]} with probability {prob:.2f}\")\n",
    "        self._schedule_after(PongEntity.delay, PongEntity.pong_evtype)"
   ]
  },
  {
   "cell_type": "code",
   "execution_count": 3,
   "id": "8bd4128f",
   "metadata": {},
   "outputs": [],
   "source": [
    "ping = PingEntity()\n",
    "pong = PongEntity()\n",
    "ping.wait_for_pong(pong)\n",
    "pong.wait_for_ping(ping)"
   ]
  },
  {
   "cell_type": "code",
   "execution_count": 5,
   "id": "0bb50b62",
   "metadata": {},
   "outputs": [],
   "source": [
    "qubit, = ns.qubits.create_qubits(1)\n",
    "ping.start(qubit)"
   ]
  },
  {
   "cell_type": "code",
   "execution_count": 6,
   "id": "7208a8ba",
   "metadata": {},
   "outputs": [
    {
     "name": "stdout",
     "output_type": "stream",
     "text": [
      "10.0: Ping event! PongEntity measured |+> with probability 0.50\n",
      "20.0: Pong event! PingEntity measured |1> with probability 0.50\n",
      "30.0: Ping event! PongEntity measured |-> with probability 0.50\n",
      "40.0: Pong event! PingEntity measured |1> with probability 0.50\n",
      "50.0: Ping event! PongEntity measured |+> with probability 0.50\n",
      "60.0: Pong event! PingEntity measured |0> with probability 0.50\n",
      "70.0: Ping event! PongEntity measured |+> with probability 0.50\n",
      "80.0: Pong event! PingEntity measured |1> with probability 0.50\n",
      "90.0: Ping event! PongEntity measured |-> with probability 0.50\n"
     ]
    }
   ],
   "source": [
    "stats = ns.sim_run(end_time=91)"
   ]
  },
  {
   "cell_type": "code",
   "execution_count": 7,
   "id": "93aa3e0c",
   "metadata": {},
   "outputs": [
    {
     "name": "stdout",
     "output_type": "stream",
     "text": [
      "\n",
      "Simulation summary\n",
      "==================\n",
      "\n",
      "Elapsed wallclock time: 0:00:00.002523\n",
      "Elapsed simulation time: 9.10e+01 [ns]\n",
      "Triggered events: 9\n",
      "Handled callbacks: 9\n",
      "Total quantum operations: 9\n",
      "Frequent quantum operations: MEASURE = 9\n",
      "Max qstate size: 1 qubits\n",
      "Mean qstate size: 1.00 qubits\n",
      "\n"
     ]
    }
   ],
   "source": [
    "print(stats)"
   ]
  },
  {
   "cell_type": "markdown",
   "id": "138a8d48",
   "metadata": {},
   "source": [
    "### Event Expressions by example: quantum teleportation"
   ]
  },
  {
   "cell_type": "code",
   "execution_count": null,
   "id": "591c7e65",
   "metadata": {},
   "outputs": [],
   "source": [
    "class Charlie(pydynaa.Entity):\n",
    "    ready_evtype = pydynaa.EventType(\"QUBITS_READY\", \"Entangled qubits are ready.\")\n",
    "    _generate_evtype = pydynaa.EventType(\"GENERATE\", \"Generate entangled qubits.\")\n",
    "    period = 50.\n",
    "    delay = 10.\n",
    "\n",
    "    def __init__(self):\n",
    "        # Initialise Charlie by entangling qubits after every generation event\n",
    "        self.entangled_qubits = None\n",
    "        self._generate_handler = pydynaa.EventHandler(self._entangle_qubits)\n",
    "        self._wait(self._generate_handler, entity=self,\n",
    "                   event_type=Charlie._generate_evtype)\n",
    "\n",
    "    def _entangle_qubits(self, event):\n",
    "        # Callback function that entangles qubits and schedules an\n",
    "        # entanglement ready event\n",
    "        q1, q2 = ns.qubits.create_qubits(2)\n",
    "        ns.qubits.operate(q1, ns.H)\n",
    "        ns.qubits.operate([q1, q2], ns.CNOT)\n",
    "        self.entangled_qubits = [q1, q2]\n",
    "        self._schedule_after(Charlie.delay, Charlie.ready_evtype)\n",
    "        print(f\"{ns.sim_time():.1f}: Charlie finished generating entanglement\")\n",
    "        self._schedule_after(Charlie.period, Charlie._generate_evtype)\n",
    "\n",
    "    def start(self):\n",
    "        # Begin generating entanglement\n",
    "        print(f\"{ns.sim_time():.1f}: Charlie start generating entanglement\")\n",
    "        self._schedule_now(Charlie._generate_evtype)"
   ]
  }
 ],
 "metadata": {
  "kernelspec": {
   "display_name": "Python 3 (ipykernel)",
   "language": "python",
   "name": "python3"
  },
  "language_info": {
   "codemirror_mode": {
    "name": "ipython",
    "version": 3
   },
   "file_extension": ".py",
   "mimetype": "text/x-python",
   "name": "python",
   "nbconvert_exporter": "python",
   "pygments_lexer": "ipython3",
   "version": "3.9.5"
  }
 },
 "nbformat": 4,
 "nbformat_minor": 5
}
