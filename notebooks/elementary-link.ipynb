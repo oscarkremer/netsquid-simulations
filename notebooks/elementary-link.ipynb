{
 "cells": [
  {
   "cell_type": "code",
   "execution_count": 109,
   "id": "80a9d276",
   "metadata": {},
   "outputs": [],
   "source": [
    "import numpy as np\n",
    "from tqdm import tqdm\n",
    "import netsquid as ns\n",
    "import netsquid.qubits.qubitapi as qapi\n",
    "from netsquid.components.qsource import SourceStatus\n",
    "from netsquid.util import DataCollector\n",
    "from netsquid_ae.datacollectors import ChainStateCollector\n",
    "from netsquid_ae.protocol_event_types import *\n",
    "from netsquid_ae.ae_chain_setup import create_repeater_link\n",
    "from netsquid.qubits.ketstates import b00, b01, b10, b11, BellIndex"
   ]
  },
  {
   "cell_type": "code",
   "execution_count": 264,
   "id": "f0e2729f",
   "metadata": {},
   "outputs": [],
   "source": [
    "sim_params = {\n",
    "            # SIMULATION\n",
    "            \"multi_photon\": False,          # bool: whether to use multi-photon up to n=3 (WARNING: very slow)\n",
    "            \"num_repeaters\": 0,             # number of repeaters\n",
    "            \"encoding\": \"time_bin\",         # encoding of the entangled photons\n",
    "            # end of simulation             Note: only use one and set others to -1\n",
    "            \"num_attempts\": 1,             # number of clicks after which the clock stops (thus stopping the protocols)\n",
    "            \"num_attempts_proto\": -1,       # number of clicks after which the emission protocols stop\n",
    "            \"num_successes\": -1,            # number of successes after which to stop the simulation\n",
    "            # magic\n",
    "            \"magic\": None,                  # whether we want to use magic (should be \"analytical\", \"sampled\" or None)\n",
    "            \"state_files_directory\": \"./\",\n",
    "            # clock                         Note: only used if magic = None, otherwise cycle time is used as time_step\n",
    "            \"time_step\": 1e6,               # time step for the clock [ns]\n",
    "            \"multiple_link_successes\": False,  # whether elementary links can have multiple successful modes\n",
    "\n",
    "            # COMPONENTS\n",
    "            # channel\n",
    "            \"length\": 0,                    # total distance between end node/ total channel length [km]\n",
    "            \"channel_length_l\": -1,         # channel length left of the detectors [km]\n",
    "            \"channel_length_r\": -1,         # channel length right of the detectors [km]\n",
    "            \"coupling_loss_fibre\": 0.,      # initial loss on channel to midpoint detectors\n",
    "            \"attenuation_l\": 0.25,          # channel attenuation left of the detectors [dB/km]\n",
    "            \"attenuation_r\": 0.25,          # channel attenuation right of the detectors [dB/km]\n",
    "            \"fibre_phase_stdv_l\": .0,\n",
    "            \"fibre_phase_stdv_r\": .0,\n",
    "            # source\n",
    "            \"source_frequency\": 20e6,                 # frequency of the photon pair source [Hz]\n",
    "            \"num_multiplexing_modes\": 1,\n",
    "            \"mean_photon_number\": None,               # mean photon pair number (only used if multi_photon=True)\n",
    "            \"emission_probabilities\": [0., 1., 0., 0.],  # emission probs for photon pair sources\n",
    "            # midpoint detector\n",
    "            \"det_dark_count_prob\": 0,   # probability of dark count per detection\n",
    "            \"det_efficiency\": 1,       # detector efficiency\n",
    "            \"det_visibility\": 1.,       # photon indistinguishability (must be 1 for multi_photon=True)\n",
    "            \"det_num_resolving\": True,  # using number or non_number resolving detectors\n",
    "            # swap & end node detector\n",
    "            \"swap_det_dark_count_prob\": 0,   # probability of dark count per detection\n",
    "            \"swap_det_efficiency\": 0.5,       # detector efficiency\n",
    "            \"swap_det_visibility\": 1.,       # photon indistinguishability (must be 1 for multi_photon=True)\n",
    "            \"swap_det_num_resolving\": True,  # using number or non_number resolving detectors\n",
    "            # memory\n",
    "            \"memory_coherence_time\": 1e6,               # coherence time of the quantum memory [ns]\n",
    "            \"max_memory_efficiency\": 1.,                # maximum efficiency of the quantum memory\n",
    "            \"memory_time_dependence\": \"exponential\",    # time-dependence of efficiency\n",
    "        }"
   ]
  },
  {
   "cell_type": "code",
   "execution_count": 313,
   "id": "702f86ed",
   "metadata": {},
   "outputs": [],
   "source": [
    "sim_params[\"length\"] = 0.002\n",
    "sim_params[\"channel_length_l\"] = 0.001\n",
    "sim_params[\"channel_length_r\"] = 0.001"
   ]
  },
  {
   "cell_type": "code",
   "execution_count": 314,
   "id": "b06149bd",
   "metadata": {},
   "outputs": [],
   "source": [
    "def run_simulation(sim_params):\n",
    "    ns.sim_reset()\n",
    "    ns.qubits.qformalism.set_qstate_formalism(ns.qubits.qformalism.QFormalism.KET)\n",
    "    protocols, network, _ = create_elementary_link(**sim_params)\n",
    "    for proto in protocols:\n",
    "        proto.start()\n",
    "    for node in network.nodes.values():\n",
    "        node.subcomponents[\"Clock\"].start()\n",
    "    link_state_collector = DataCollector(ChainStateCollector(nodes_1=list(network.nodes.values())))\n",
    "    link_state_collector.collect_on([(protocols[0], EVTYPE_SUCCESS), \n",
    "                                     (protocols[1], EVTYPE_SUCCESS),\n",
    "                                    ], \"AND\")\n",
    "    ns.sim_run()\n",
    "    return link_state_collector.dataframe"
   ]
  },
  {
   "cell_type": "code",
   "execution_count": 317,
   "id": "ef7aca50",
   "metadata": {},
   "outputs": [
    {
     "name": "stderr",
     "output_type": "stream",
     "text": [
      "100%|█████████████████████████████████████████████████████████| 10000/10000 [00:51<00:00, 195.85it/s]\n"
     ]
    },
    {
     "data": {
      "text/plain": [
       "5048"
      ]
     },
     "execution_count": 317,
     "metadata": {},
     "output_type": "execute_result"
    }
   ],
   "source": [
    "count = 0\n",
    "for i in tqdm(range(10000)):\n",
    "    df = run_simulation(sim_params)\n",
    "    count += len(df)\n",
    "count"
   ]
  },
  {
   "cell_type": "code",
   "execution_count": 303,
   "id": "1e5b5bb1",
   "metadata": {},
   "outputs": [],
   "source": [
    "q1, q2 = qapi.create_qubits(num_qubits=2)"
   ]
  },
  {
   "cell_type": "code",
   "execution_count": 305,
   "id": "8222796b",
   "metadata": {},
   "outputs": [
    {
     "name": "stdout",
     "output_type": "stream",
     "text": [
      "Qubit('QS#85784-0') Qubit('QS#85784-1')\n",
      "True\n"
     ]
    }
   ],
   "source": [
    "for index, row in df.iterrows():\n",
    "    q1, q2 = qapi.create_qubits(num_qubits=2)\n",
    "    print(q1, q2)\n",
    "    qapi.assign_qstate([q1, q2], row[\"state\"])\n",
    "    if row[\"midpoint_outcome_0\"] == BellIndex.B01:\n",
    "        print(np.isclose(qapi.fidelity([q1, q2], b01), 1))\n",
    "    else:\n",
    "        print(np.isclose(qapi.fidelity([q1, q2], b11), 1))"
   ]
  },
  {
   "cell_type": "code",
   "execution_count": 318,
   "id": "8bf6644d",
   "metadata": {},
   "outputs": [
    {
     "data": {
      "text/html": [
       "<div>\n",
       "<style scoped>\n",
       "    .dataframe tbody tr th:only-of-type {\n",
       "        vertical-align: middle;\n",
       "    }\n",
       "\n",
       "    .dataframe tbody tr th {\n",
       "        vertical-align: top;\n",
       "    }\n",
       "\n",
       "    .dataframe thead th {\n",
       "        text-align: right;\n",
       "    }\n",
       "</style>\n",
       "<table border=\"1\" class=\"dataframe\">\n",
       "  <thead>\n",
       "    <tr style=\"text-align: right;\">\n",
       "      <th></th>\n",
       "      <th>time_stamp</th>\n",
       "      <th>entity_name</th>\n",
       "      <th>state</th>\n",
       "      <th>number_of_rounds</th>\n",
       "      <th>round</th>\n",
       "      <th>midpoint_outcome_0</th>\n",
       "    </tr>\n",
       "  </thead>\n",
       "  <tbody>\n",
       "    <tr>\n",
       "      <th>0</th>\n",
       "      <td>10.0</td>\n",
       "      <td>EmissionProtocol('EmissionProtocol')</td>\n",
       "      <td>[[0j, 0j, 0j, 0j], [0j, (0.49999999999999994+0...</td>\n",
       "      <td>1.0</td>\n",
       "      <td>1.0</td>\n",
       "      <td>2.0</td>\n",
       "    </tr>\n",
       "  </tbody>\n",
       "</table>\n",
       "</div>"
      ],
      "text/plain": [
       "   time_stamp                           entity_name  \\\n",
       "0        10.0  EmissionProtocol('EmissionProtocol')   \n",
       "\n",
       "                                               state  number_of_rounds  round  \\\n",
       "0  [[0j, 0j, 0j, 0j], [0j, (0.49999999999999994+0...               1.0    1.0   \n",
       "\n",
       "   midpoint_outcome_0  \n",
       "0                 2.0  "
      ]
     },
     "execution_count": 318,
     "metadata": {},
     "output_type": "execute_result"
    }
   ],
   "source": [
    "df.head()"
   ]
  },
  {
   "cell_type": "code",
   "execution_count": 325,
   "id": "bda20e4c",
   "metadata": {},
   "outputs": [
    {
     "name": "stdout",
     "output_type": "stream",
     "text": [
      "BellIndex.B11\n"
     ]
    }
   ],
   "source": [
    "for out in df[\"midpoint_outcome_0\"]:\n",
    "    if out == BellIndex.PSI_PLUS:\n",
    "        print(BellIndex.PSI_PLUS)\n",
    "    elif out == BellIndex.PSI_MINUS:\n",
    "        print(BellIndex.PSI_MINUS)"
   ]
  }
 ],
 "metadata": {
  "kernelspec": {
   "display_name": "Python 3 (ipykernel)",
   "language": "python",
   "name": "python3"
  },
  "language_info": {
   "codemirror_mode": {
    "name": "ipython",
    "version": 3
   },
   "file_extension": ".py",
   "mimetype": "text/x-python",
   "name": "python",
   "nbconvert_exporter": "python",
   "pygments_lexer": "ipython3",
   "version": "3.9.5"
  }
 },
 "nbformat": 4,
 "nbformat_minor": 5
}
